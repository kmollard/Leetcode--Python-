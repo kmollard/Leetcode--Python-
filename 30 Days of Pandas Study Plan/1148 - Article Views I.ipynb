{
 "cells": [
  {
   "cell_type": "markdown",
   "metadata": {},
   "source": [
    "Question: 1148 - Article Views I<br>\n",
    "Language: Python<br>\n",
    "Solution: "
   ]
  },
  {
   "cell_type": "code",
   "execution_count": 1,
   "metadata": {},
   "outputs": [],
   "source": [
    "import pandas as pd\n",
    "# find all authors that viewed at leas one of their own articles\n",
    "def article_views(views: pd.DataFrame) -> pd.DataFrame:\n",
    "    views = views[(views['author_id'] == views['viewer_id'])].sort_values(by=['author_id'])\n",
    "    views = views[['author_id']].drop_duplicates()\n",
    "    return views.rename(columns={\"author_id\": \"id\"})"
   ]
  }
 ],
 "metadata": {
  "kernelspec": {
   "display_name": "Python 3",
   "language": "python",
   "name": "python3"
  },
  "language_info": {
   "codemirror_mode": {
    "name": "ipython",
    "version": 3
   },
   "file_extension": ".py",
   "mimetype": "text/x-python",
   "name": "python",
   "nbconvert_exporter": "python",
   "pygments_lexer": "ipython3",
   "version": "3.11.1"
  },
  "orig_nbformat": 4
 },
 "nbformat": 4,
 "nbformat_minor": 2
}
