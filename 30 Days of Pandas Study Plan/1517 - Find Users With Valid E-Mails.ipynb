{
 "cells": [
  {
   "cell_type": "markdown",
   "metadata": {},
   "source": [
    "1517. Find Users With Valid E-Mails<br>\n"
   ]
  },
  {
   "cell_type": "code",
   "execution_count": 1,
   "metadata": {},
   "outputs": [],
   "source": [
    "import pandas as pd\n",
    "def valid_emails(users: pd.DataFrame) -> pd.DataFrame:\n",
    "    return users[users['mail'].str.match(r'^[a-zA-Z][a-zA-Z0-9_.-]*@leetcode\\.com$', na=False)]"
   ]
  },
  {
   "cell_type": "markdown",
   "metadata": {},
   "source": [
    "    ^: This symbol signifies the start of the string.\n",
    "\n",
    "    [a-zA-Z]: This part matches any single letter, whether uppercase or lowercase, as the prefix name of the email.\n",
    "\n",
    "    [a-zA-Z0-9_.-]*: This part matches zero or more occurrences of characters that are valid in the prefix name of the email. It includes:\n",
    "        a-zA-Z: Any letter (upper or lower case).\n",
    "        0-9: Any digit.\n",
    "        _.-: Underscore _, period ., or dash -.\n",
    "    \n",
    "    *: This quantifier allows the preceding character class to repeat zero or more times.\n",
    "\n",
    "    @leetcode\\.com: This matches the exact domain @leetcode.com.\n",
    "\n",
    "    $: This symbol signifies the end of the string.\n",
    "\n",
    "Putting it all together, the regular expression checks for the following conditions:\n",
    "\n",
    "    The email starts with a letter.\n",
    "    The prefix name can contain letters, digits, underscore, period, or dash.\n",
    "    The email ends with the domain @leetcode.com."
   ]
  }
 ],
 "metadata": {
  "kernelspec": {
   "display_name": "Python 3",
   "language": "python",
   "name": "python3"
  },
  "language_info": {
   "codemirror_mode": {
    "name": "ipython",
    "version": 3
   },
   "file_extension": ".py",
   "mimetype": "text/x-python",
   "name": "python",
   "nbconvert_exporter": "python",
   "pygments_lexer": "ipython3",
   "version": "3.11.1"
  },
  "orig_nbformat": 4
 },
 "nbformat": 4,
 "nbformat_minor": 2
}
