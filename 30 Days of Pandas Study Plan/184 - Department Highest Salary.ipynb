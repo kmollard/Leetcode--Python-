{
 "cells": [
  {
   "cell_type": "markdown",
   "metadata": {},
   "source": [
    "184. Department Highest Salary"
   ]
  },
  {
   "cell_type": "code",
   "execution_count": null,
   "metadata": {},
   "outputs": [],
   "source": [
    "# attempt\n",
    "import pandas as pd\n",
    "def department_highest_salary(employee: pd.DataFrame, department: pd.DataFrame) -> pd.DataFrame:\n",
    "    if employee.empty or department.empty:\n",
    "        return pd.DataFrame(columns=['Department','Employee', 'Salary'])\n",
    "    df = employee.merge(department, left_on='departmentId', right_on='id', how='left')\n",
    "    # something here to find the top salaries for each department\n",
    "    return df['Department', 'Employee', 'Salary']\n"
   ]
  }
 ],
 "metadata": {
  "language_info": {
   "name": "python"
  },
  "orig_nbformat": 4
 },
 "nbformat": 4,
 "nbformat_minor": 2
}
