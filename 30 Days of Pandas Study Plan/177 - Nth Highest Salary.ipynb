{
 "cells": [
  {
   "cell_type": "markdown",
   "metadata": {},
   "source": [
    "177 - Nth Highest Salary"
   ]
  },
  {
   "cell_type": "code",
   "execution_count": 1,
   "metadata": {},
   "outputs": [
    {
     "ename": "SyntaxError",
     "evalue": "invalid syntax (1996325270.py, line 9)",
     "output_type": "error",
     "traceback": [
      "\u001b[1;36m  Cell \u001b[1;32mIn[1], line 9\u001b[1;36m\u001b[0m\n\u001b[1;33m    df = pd.DataFrame({'getNthHighestSalary(',N,')':[x]})\u001b[0m\n\u001b[1;37m                                                   ^\u001b[0m\n\u001b[1;31mSyntaxError\u001b[0m\u001b[1;31m:\u001b[0m invalid syntax\n"
     ]
    }
   ],
   "source": [
    "import pandas as pd\n",
    "def nth_highest_salary(employee: pd.DataFrame, N: int) -> pd.DataFrame:\n",
    "    if N <= 0: return None\n",
    "\n",
    "    x = null\n",
    "    if N <= len(employee):\n",
    "        employee = employee.sort_values('salary', ascending=False)\n",
    "        x = employee.iloc[N-1][2]\n",
    "    df = pd.DataFrame({'getNthHighestSalary(',N,')':[x]})\n",
    "    return df"
   ]
  },
  {
   "cell_type": "code",
   "execution_count": 2,
   "metadata": {},
   "outputs": [],
   "source": [
    "import pandas as pd\n",
    "\n",
    "def getNthHighestSalary(employee: pd.DataFrame, N: int) -> int:\n",
    "    if N <= 0:\n",
    "        return None\n",
    "    \n",
    "    employee = employee.sort_values('salary', ascending=False)\n",
    "    \n",
    "    if N > len(employee):\n",
    "        return None\n",
    "    \n",
    "    nth_highest_salary = employee.iloc[N - 1]['salary']\n",
    "    return nth_highest_salary\n"
   ]
  },
  {
   "cell_type": "code",
   "execution_count": null,
   "metadata": {},
   "outputs": [],
   "source": [
    "import pandas as pd\n",
    "def nth_highest_salary(employee: pd.DataFrame, N: int) -> pd.DataFrame:\n",
    "    unique_salaries = employee['salary'].drop_duplicates()\n",
    "    sorted_salaries = unique_salaries.sort_values(ascending=False)\n",
    "    if N > len(sorted_salaries):\n",
    "        return pd.DataFrame({'Nth Highest Salary': [None]})\n",
    "    nth_highest = sorted_salaries.iloc[N - 1]\n",
    "    return pd.DataFrame({'Nth Highest Salary': [nth_highest]})"
   ]
  }
 ],
 "metadata": {
  "kernelspec": {
   "display_name": "Python 3",
   "language": "python",
   "name": "python3"
  },
  "language_info": {
   "codemirror_mode": {
    "name": "ipython",
    "version": 3
   },
   "file_extension": ".py",
   "mimetype": "text/x-python",
   "name": "python",
   "nbconvert_exporter": "python",
   "pygments_lexer": "ipython3",
   "version": "3.11.1"
  },
  "orig_nbformat": 4
 },
 "nbformat": 4,
 "nbformat_minor": 2
}
