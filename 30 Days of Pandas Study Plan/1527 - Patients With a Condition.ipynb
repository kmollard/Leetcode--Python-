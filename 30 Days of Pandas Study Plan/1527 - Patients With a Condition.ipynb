{
 "cells": [
  {
   "cell_type": "markdown",
   "metadata": {},
   "source": [
    "1527. Patients With a Condition"
   ]
  },
  {
   "cell_type": "code",
   "execution_count": 1,
   "metadata": {},
   "outputs": [],
   "source": [
    "import pandas as pd\n",
    "def find_patients(patients: pd.DataFrame) -> pd.DataFrame:\n",
    "    return patients[patients['conditions'].str.contains(r'(?:^|\\s)DIAB1', na=False)]"
   ]
  },
  {
   "cell_type": "markdown",
   "metadata": {},
   "source": [
    "Break down the regular expression (?:^|\\s)DIAB1:\n",
    "\n",
    "    (?: ... ): This is a non-capturing group in regular expressions. It's used to group together a set of characters or subpatterns without capturing the matched portion.\n",
    "\n",
    "    ^: This symbol represents the start of a string. In regular expressions, it asserts that the following pattern should match at the beginning of the string.\n",
    "\n",
    "    |: This is the alternation operator, which functions like a logical OR. It allows you to match either the expression on the left or the expression on the right.\n",
    "\n",
    "    \\s: This is a special character class in regular expressions that matches any whitespace character, including spaces, tabs, and line breaks.\n",
    "\n",
    "    DIAB1: This is the literal string \"DIAB1\" that you want to match."
   ]
  }
 ],
 "metadata": {
  "kernelspec": {
   "display_name": "Python 3",
   "language": "python",
   "name": "python3"
  },
  "language_info": {
   "codemirror_mode": {
    "name": "ipython",
    "version": 3
   },
   "file_extension": ".py",
   "mimetype": "text/x-python",
   "name": "python",
   "nbconvert_exporter": "python",
   "pygments_lexer": "ipython3",
   "version": "3.11.1"
  },
  "orig_nbformat": 4
 },
 "nbformat": 4,
 "nbformat_minor": 2
}
