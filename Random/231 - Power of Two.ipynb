{
 "cells": [
  {
   "cell_type": "markdown",
   "metadata": {},
   "source": [
    "Question 231 - Power of Two<br>\n",
    "https://leetcode.com/problems/power-of-two/description/<br>\n",
    "Need to review alternate solution (bit wise shifting/checking)"
   ]
  },
  {
   "cell_type": "code",
   "execution_count": 13,
   "metadata": {},
   "outputs": [],
   "source": [
    "import math as mt\n",
    "class Solution:\n",
    "    def isPowerOfTwo(self, n: int) -> bool:\n",
    "        # (n = 2^x) == mt.log(n, 2) = x\n",
    "        # check if n is positive and within constraint\n",
    "\n",
    "        # if 0 >= n or n > (2**31)-1:\n",
    "        #     return False\n",
    "\n",
    "        if 0 >= n:\n",
    "            return False\n",
    "        if n > (2**31)-1:\n",
    "            return False\n",
    "\n",
    "        # x = mt.log(n, 2)\n",
    "\n",
    "        x = mt.log2(n)\n",
    "\n",
    "        # return x == int(x) or mt.isclose(x, round(x))\n",
    "        return x == int(x)"
   ]
  },
  {
   "cell_type": "code",
   "execution_count": 10,
   "metadata": {},
   "outputs": [
    {
     "data": {
      "text/plain": [
       "False"
      ]
     },
     "execution_count": 10,
     "metadata": {},
     "output_type": "execute_result"
    }
   ],
   "source": [
    "solution = Solution()\n",
    "solution.isPowerOfTwo(16)"
   ]
  },
  {
   "cell_type": "code",
   "execution_count": 12,
   "metadata": {},
   "outputs": [
    {
     "data": {
      "text/plain": [
       "False"
      ]
     },
     "execution_count": 12,
     "metadata": {},
     "output_type": "execute_result"
    }
   ],
   "source": [
    "536870912 > 2**30 - 1\n"
   ]
  },
  {
   "cell_type": "code",
   "execution_count": null,
   "metadata": {},
   "outputs": [],
   "source": [
    "# Understandinng bit manipulation given the base 2 of binary\n",
    "class RecSolution(object):\n",
    "    def isPowerOfTwo(self, n):\n",
    "        return n and not (n & n - 1)"
   ]
  }
 ],
 "metadata": {
  "kernelspec": {
   "display_name": "Python 3",
   "language": "python",
   "name": "python3"
  },
  "language_info": {
   "codemirror_mode": {
    "name": "ipython",
    "version": 3
   },
   "file_extension": ".py",
   "mimetype": "text/x-python",
   "name": "python",
   "nbconvert_exporter": "python",
   "pygments_lexer": "ipython3",
   "version": "3.11.1"
  },
  "orig_nbformat": 4
 },
 "nbformat": 4,
 "nbformat_minor": 2
}
